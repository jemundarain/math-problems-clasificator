{
 "metadata": {
  "language_info": {
   "codemirror_mode": {
    "name": "ipython",
    "version": 3
   },
   "file_extension": ".py",
   "mimetype": "text/x-python",
   "name": "python",
   "nbconvert_exporter": "python",
   "pygments_lexer": "ipython3",
   "version": "3.9.2"
  },
  "orig_nbformat": 2,
  "kernelspec": {
   "name": "python392jvsc74a57bd024716ab481f0a4dc14cbc1f4a22fa191844810ccca908d8defb268345444a119",
   "display_name": "Python 3.9.2 64-bit"
  },
  "metadata": {
   "interpreter": {
    "hash": "24716ab481f0a4dc14cbc1f4a22fa191844810ccca908d8defb268345444a119"
   }
  }
 },
 "nbformat": 4,
 "nbformat_minor": 2,
 "cells": [
  {
   "cell_type": "code",
   "execution_count": 24,
   "metadata": {
    "tags": []
   },
   "outputs": [
    {
     "output_type": "stream",
     "name": "stdout",
     "text": [
      "['hallar', 'todas', 'las', 'formas', 'de', 'expresar', '$', '2003', '$', 'como', 'la', 'suma', 'de', 'los', 'cuadrados', 'de', 'dos', 'números', 'enteros', '.']\n['en', 'cada', 'casilla', 'de', 'un', 'tablero', '$', 'm\\\\times', 'n', '$', 'se', 'encuentra', 'un', 'número', 'real', '.', 'se', 'permite', 'cambiar', 'todos', 'los', 'números', 'de', 'una', 'fila', 'o', 'de', 'una', 'columna', 'de', 'signo', 'tantas', 'veces', 'como', 'queramos', '.', 'demostrar', 'que', 'puede', 'conseguirse', 'que', 'las', 'sumas', 'de', 'los', 'elementos', 'cada', 'fila', 'y', 'cada', 'columna', 'sean', 'no', 'negativas', 'independientemente', 'de', 'la', 'configuración', 'inicial', '.']\n['sea', '$', 'a_1', ',', 'a_2', ',', '\\\\ldots', '$', 'una', 'progresión', 'aritmética', 'no', 'constante', 'de', 'números', 'reales', '.', 'supongamos', 'que', 'existen', 'enteros', 'primos', 'entre', 'sí', '$', 'p', ',', 'q\\\\gt', '1', '$', 'para', 'los', 'que', '$', 'a_1^2', '$', ',', '$', 'a_', '{', 'p+1', '}', '^2', '$', 'y', '$', 'a_', '{', 'q+1', '}', '^2', '$', 'son', 'también', 'elementos', 'de', 'la', 'misma', 'sucesión', '.', 'demostrar', 'que', 'todos', 'los', 'términos', 'de', 'la', 'sucesión', 'son', 'enteros', '.']\n['sean', '$', 'p', '$', 'y', '$', 'q', '$', 'números', 'enteros', 'tales', 'que', '\\\\', '[', '1-\\\\frac', '{', '1', '}', '{', '2', '}', '+\\\\frac', '{', '1', '}', '{', '3', '}', '-\\\\frac', '{', '1', '}', '{', '4', '}', '+\\\\ldots-\\\\frac', '{', '1', '}', '{', '1318', '}', '+\\\\frac', '{', '1', '}', '{', '1319', '}', '=\\\\frac', '{', 'p', '}', '{', 'q', '}', '.\\\\', ']', 'demostrar', 'que', '$', 'p', '$', 'es', 'divisible', 'entre', '$', '1979', '$', '.']\n['demostrar', 'que', 'el', 'siguiente', 'número', 'entero', 'es', 'compuesto', ':', '\\\\', '[', '\\\\frac', '{', '5^', '{', '125', '}', '-1', '}', '{', '5^', '{', '25', '}', '-1', '}', '.\\\\', ']']\n['si', 'los', 'números', 'del', '$', '11111', '$', 'al', '$', '99999', '$', 'se', 'colocan', 'en', 'algún', 'orden', 'formando', 'un', 'número', 'de', '$', '444445', '$', 'cifras', ',', 'demostrar', 'que', 'dicho', 'número', 'no', 'es', 'una', 'potencia', 'de', '$', '2', '$', '.']\n['dado', 'un', 'número', 'natural', '$', 'n', '$', ',', 'denotaremos', 'por', '$', 's', '(', 'n', ')', '$', 'a', 'la', 'suma', 'de', 'los', 'dígitos', 'de', '$', 'n', '$', '(', 'por', 'ejemplo', ',', 'tenemos', 'que', '$', 's', '(', '436', ')', '=4+3+6=13', '$', ')', '.', 'hallar', 'todas', 'las', 'soluciones', 'de', 'la', 'ecuación', '\\\\', '[', 'n+s', '(', 'n', ')', '+s', '(', 's', '(', 'n', ')', ')', '=2018.\\\\', ']']\n['sean', '$', 'p', '$', 'un', 'número', 'primo', 'impar', 'y', '$', 'a', '$', 'y', '$', 'b', '$', 'enteros', 'positivos', '.', 'si', 'el', 'exponente', 'de', '$', 'p', '$', 'en', '$', 'a-1', '$', 'es', '$', '\\\\alpha\\\\geq', '1', '$', 'y', 'el', 'exponente', 'de', '$', 'p', '$', 'en', '$', 'b', '$', 'es', '$', '\\\\beta\\\\geq', '0', '$', ',', 'demostrar', 'que', 'el', 'exponente', 'de', '$', 'p', '$', 'en', '$', 'a^b-1', '$', 'es', '$', '\\\\alpha+\\\\beta', '$', '.', '(', 'cuando', 'decimos', 'que', '$', 'e', '$', 'es', 'el', 'exponente', 'de', '$', 'p', '$', 'en', 'un', 'número', '$', 'n', '$', ',', 'queremos', 'decir', 'que', 'es', 'el', 'exponente', 'en', 'su', 'factorización', 'como', 'producto', 'de', 'números', 'primos', ',', 'es', 'decir', ',', 'que', '$', 'p^e', '$', 'divide', 'a', '$', 'n', '$', 'pero', '$', 'p^', '{', 'e+1', '}', '$', 'no', 'divide', 'a', '$', 'n', '$', '.', ')']\n['determinar', 'todos', 'los', 'números', 'enteros', 'positivos', '$', 'p', '$', 'y', '$', 'n', '$', 'tales', 'que', '$', 'p', '$', 'es', 'primo', 'y', '\\\\', '[', '8p+120=1+2+\\\\ldots+n.\\\\', ']']\n['probar', 'que', ',', 'para', 'todo', 'número', 'racional', 'positivo', '$', 'r', '$', ',', 'existen', 'enteros', 'positivos', '$', 'a', ',', 'b', ',', 'c', ',', 'd', '$', 'tales', 'que', '\\\\', '[', 'r=\\\\frac', '{', 'a^3+b^3', '}', '{', 'c^3+d^3', '}', '.\\\\', ']']\n['un', 'entero', 'positivo', 'se', 'llama', 'monótono', 'si', 'sus', 'dígitos', 'en', 'base', 'decimal', 'de', 'izquierda', 'a', 'derecha', 'forma', 'una', 'sucesión', 'no', 'decreciente', '.', 'demostrar', 'que', ',', 'para', 'cada', 'entero', 'positivo', '$', 'n', '$', 'existe', 'un', 'número', 'monótono', 'de', '$', 'n', '$', 'dígitos', 'que', 'es', 'cuadrado', 'perfecto', '.']\n['dado', 'un', 'entero', '$', 'n\\\\geq', '2', '$', ',', 'demostrar', 'que', 'existe', 'un', 'conjunto', '$', 's', '$', 'de', '$', 'n', '$', 'números', 'enteros', 'tales', 'que', '$', '(', 'a-b', ')', '^2', '$', 'divide', 'a', '$', 'ab', '$', 'para', 'cualesquiera', '$', 'a', ',', 'b\\\\in', 's', '$', '.']\n['sean', '$', 'a', ',', 'p', ',', 'n\\\\in\\\\mathbb', '{', 'n', '}', '$', 'enteros', 'positivos', 'con', '$', 'p', '$', 'primo', '.', 'demostrar', 'que', 'si', '$', '2^p+3^p=a^n', '$', ',', 'entonces', '$', 'n=1', '$', '.']\n['probar', 'que', ',', 'para', 'cada', '$', 'n\\\\in\\\\mathbb', '{', 'n', '}', '$', ',', 'existe', 'un', 'número', 'entero', '$', 'n', '$', 'que', 'puede', 'ser', 'expresado', 'como', 'la', 'suma', 'de', 'dos', 'cuadrados', 'y', 'que', ',', 'además', ',', 'cumple', 'que', '$', 'n\\\\leq', 'n\\\\leq', 'n+2\\\\sqrt', '{', '2', '}', '\\\\sqrt', '[', '4', ']', '{', 'n', '}', '$', '.']\n['decimos', 'que', 'un', 'número', 'entero', 'positivo', 'es', 'un', 'número', 'ondulante', 'si', 'sus', 'dígitos', 'en', 'base', '10', 'son', 'alternativamente', 'cero', 'y', 'distinto', 'de', 'cero', ',', 'siendo', 'el', 'dígito', 'de', 'las', 'unidades', 'distinto', 'de', 'cero', '.', 'determinar', 'todos', 'los', 'enteros', 'positivos', 'que', 'no', 'dividen', 'a', 'ningún', 'número', 'ondulante', '.']\n['probar', 'que', 'entre', '$', '39', '$', 'números', 'naturales', 'consecutivos', ',', 'siempre', 'existe', 'uno', 'tal', 'que', 'la', 'suma', 'de', 'sus', 'cifras', 'es', 'múltiplo', 'de', '$', '11', '$', '.']\n['dados', 'dos', 'números', 'naturales', '$', 'a', ',', 'b\\\\in\\\\mathbb', '{', 'n', '}', '$', ',', '¿pueden', 'ser', '$', 'a^2+b', '$', 'y', '$', 'b^2+a', '$', 'ambos', 'cuadrados', 'perfectos', '?']\n['demostrar', 'que', 'los', 'binomios', '$', '25x+31y', '$', 'y', '$', '3x+7y', '$', 'son', 'múltiplos', 'de', '41', 'para', 'los', 'mismos', 'valores', 'enteros', 'de', '$', 'x', '$', 'e', '$', 'y', '$', '.']\n['hallar', 'todos', 'los', 'enteros', 'positivos', '$', 'n', '$', 'tales', 'que', '\\\\', '[', 'n=s+u^2', '{', ',', '}', '\\\\', ']', 'donde', '$', 's', '$', 'es', 'la', 'suma', 'de', 'las', 'cifras', 'de', '$', 'n', '$', 'y', '$', 'u', '$', 'su', 'cifra', 'de', 'las', 'unidades', '.']\n['encontrar', 'todas', 'las', 'soluciones', 'naturales', 'de', 'la', 'ecuación', '\\\\', '[', '\\\\frac', '{', '1', '}', '{', 'm', '}', '+\\\\frac', '{', '1', '}', '{', 'n', '}', '+\\\\frac', '{', '1', '}', '{', 'mn^2', '}', '=\\\\frac', '{', '3', '}', '{', '4', '}', '{', '.', '}', '\\\\', ']']\n['dado', 'un', 'número', 'entero', 'positivo', ',', 'consideremos', 'la', 'operación', 'consistente', 'en', 'restarle', 'su', 'mayor', 'divisor', 'propio', '.', 'partiendo', 'del', 'número', '$', '19^', '{', '19', '}', '$', 'y', 'aplicando', 'reiteradamente', 'esta', 'operación', 'se', 'obtiene', 'el', 'número', '1.', 'determinar', 'cuántas', 'veces', 'se', 'ha', 'aplicado', 'la', 'operación', '.']\n['dados', 'los', 'números', 'racionales', '$', 'r', '$', ',', '$', 'q', '$', 'y', '$', 'n', '$', 'tales', 'que', '\\\\', '[', '\\\\frac', '{', '1', '}', '{', 'r+qn', '}', '+\\\\frac', '{', '1', '}', '{', 'q+rn', '}', '=\\\\frac', '{', '1', '}', '{', 'r+q', '}', '{', ',', '}', '\\\\', ']', 'demostrar', 'que', '$', '\\\\sqrt', '{', '\\\\frac', '{', 'n-3', '}', '{', 'n+1', '}', '}', '$', 'es', 'un', 'número', 'racional', '.']\n['sea', '$', 'n', '$', 'un', 'entero', 'positivo', 'tal', 'que', 'existen', 'exactamente', '$', '2005', '$', 'pares', 'ordenados', '$', '(', 'x', ',', 'y', ')', '$', 'de', 'números', 'enteros', 'positivos', 'que', 'satisfacen', 'la', 'ecuación', '\\\\', '[', '\\\\frac', '{', '1', '}', '{', 'x', '}', '+\\\\frac', '{', '1', '}', '{', 'y', '}', '=\\\\frac', '{', '1', '}', '{', 'n', '}', '{', '.', '}', '\\\\', ']', 'demostrar', 'que', '$', 'n', '$', 'es', 'un', 'cuadrado', 'perfecto', '.']\n['hallar', 'todas', 'las', 'ternas', 'de', 'números', 'enteros', '$', '(', 'x', ',', 'y', ',', 'z', ')', '$', 'tales', 'que', '$', '$', '\\\\frac', '{', '1', '}', '{', 'x^2', '}', '+\\\\frac', '{', '1', '}', '{', 'y^2', '}', '=z.', '$', '$']\n['determinar', 'todos', 'los', 'pares', 'de', 'enteros', 'positivos', '$', '(', 'a', ',', 'b', ')', '$', 'para', 'los', 'cuales', '\\\\', '[', '\\\\frac', '{', 'a^2b+b', '}', '{', 'ab^2+9', '}', '\\\\', ']', 'es', 'un', 'número', 'entero', '.']\n['sean', '$', 'a', '$', 'y', '$', 'b', '$', 'enteros', '.', 'demostrar', 'que', 'la', 'ecuación', '\\\\', '[', '(', 'x-a', ')', '(', 'x-b', ')', '(', 'x-3', ')', '+1=0\\\\', ']', 'admite', 'a', 'lo', 'sumo', 'una', 'solución', 'entera', '.']\n['¿existe', 'alguna', 'potencia', 'de', '$', '2', '$', 'tal', 'que', 'al', 'escribirla', 'en', 'el', 'sistema', 'decimal', 'tenga', 'todos', 'sus', 'dígitos', 'distintos', 'de', 'cero', 'y', 'sea', 'posible', 'reordenar', 'los', 'mismos', 'para', 'formar', 'con', 'ellos', 'otra', 'potencia', 'de', '$', '2', '$', '?']\n['encontrar', 'el', 'mayor', 'entero', '$', 'n', '$', 'que', 'cumple', 'las', 'siguientes', 'condiciones', ':', '$', 'e', '(', '\\\\frac', '{', 'n', '}', '{', '3', '}', ')', '$', 'es', 'un', 'número', 'de', 'tres', 'cifras', 'iguales', ',', '$', 'e', '(', '\\\\frac', '{', 'n', '}', '{', '3', '}', ')', '=1+2+\\\\ldots+n', '$', ',', 'para', 'algún', 'número', 'natural', '$', 'n\\\\in\\\\mathbb', '{', 'n', '}', '$', ',', 'donde', '$', 'e', '(', 'x', ')', '$', 'denota', 'la', 'parte', 'entera', 'de', '$', 'x', '$', '.']\n['sea', '$', 'a', '$', 'un', 'entero', 'positivo', 'impar', 'mayor', 'que', '$', '17', '$', 'tal', 'que', '$', '3a-2', '$', 'es', 'un', 'cuadrado', 'perfecto', '.', 'demostrar', 'que', 'existen', 'enteros', 'positivos', 'distintos', '$', 'b', '$', 'y', '$', 'c', '$', 'tales', 'que', '$', 'a+b', '$', ',', '$', 'b+c', '$', ',', '$', 'a+c', '$', 'y', '$', 'a+b+c', '$', 'son', 'cuatro', 'cuadrados', 'perfectos', '.']\n['hallar', 'todos', 'los', 'números', 'naturales', '$', 'n', '$', 'tales', 'que', '$', '2^n+12^n+2011^n', '$', 'es', 'un', 'cuadrado', 'perfecto', '.']\n['hallar', 'todos', 'los', 'números', 'enteros', '$', 'n', '$', 'tales', 'que', '$', '$', 'n^4-4n^3+22n^2-36n+18', '$', '$', 'es', 'un', 'cuadrado', 'perfecto', '.']\n['sean', '$', 'a', ',', 'b', ',', 'c', ',', 'd', '$', 'números', 'naturales', 'tales', 'que', '$', 'ad=b^2+bc+c^2', '$', '.', 'demostrar', 'que', '$', '$', 'a^2+b^2+c^2+d^2', '$', '$', 'es', 'un', 'número', 'compuesto', '.']\n['hallar', 'todos', 'los', 'polinomios', 'de', 'coeficientes', 'enteros', '$', 'p', '(', 'x', ')', '$', 'con', 'la', 'propiedad', 'de', 'que', '$', 'p', '(', 'n', ')', '$', 'divide', 'a', '$', '2^n-1', '$', 'para', 'todo', 'número', 'natural', '$', 'n', '$', '.']\n['determinar', 'todos', 'los', 'números', 'naturales', '$', 'm', '$', 'tales', 'que', '$', 'm2^', '{', 'm-1', '}', '+1', '$', 'es', 'un', 'cuadrado', 'perfecto', '.']\n['descomponer', 'en', 'factores', 'primos', 'el', 'número', '\\\\', '[', 'n=1995\\\\cdot', '2007\\\\cdot', '2013+320.\\\\', ']']\n['sean', '$', 'a', ',', 'b', ',', 'c', ',', 'd', ',', 'p', ',', 'q', '$', 'números', 'naturales', 'tales', 'que', '$', 'ad-bc=1', '$', 'y', '\\\\', '[', '\\\\frac', '{', 'a', '}', '{', 'b', '}', '\\\\gt\\\\frac', '{', 'p', '}', '{', 'q', '}', '\\\\gt\\\\frac', '{', 'c', '}', '{', 'd', '}', '{', '.', '}', '\\\\', ']', 'demostrar', 'que', '$', 'q\\\\geq', 'b+d', '$', '.', 'si', '$', 'q=b+d', '$', ',', 'entonces', '$', 'p=a+c', '$', '.']\n['determinar', 'razonadamente', 'si', 'el', 'número', '$', '\\\\sqrt', '{', '3n^2+2n+2', '}', '$', 'es', 'irracional', 'para', 'todo', 'entero', 'no', 'negativo', '$', 'n', '$', '.']\n['sean', '$', 'a', '$', ',', '$', 'b', '$', 'y', '$', 'n', '$', 'enteros', 'positivos', 'tales', 'que', '$', 'ab-1=n^2', '$', '.', 'demostrar', 'que', '$', '$', '|a-b|\\\\geq\\\\sqrt', '{', '4n-3', '}', '.', '$', '$', 'indicar', 'justificadamente', 'cuándo', 'se', 'alcanza', 'la', 'igualdad', '.']\n['demostrar', 'que', 'si', '$', '4^n+2^n+1', '$', 'es', 'primo', ',', 'entonces', '$', 'n', '$', 'es', 'una', 'potencia', 'de', '$', '3', '$', '.']\n['demuestra', 'que', ',', 'para', 'cualesquiera', 'enteros', 'no', 'negativos', '$', 'm', '$', 'y', '$', 'n', '$', ',', 'el', 'número', '\\\\', '[', '\\\\frac', '{', '(', '2m', ')', '!', '(', '2n', ')', '!', '}', '{', 'm', '!', '\\\\', ',', 'n', '!', '(', 'm+n', ')', '!', '}', '\\\\', ']', 'es', 'entero', '.']\n['demostrar', 'que', 'si', '$', 'n', '$', 'es', 'un', 'número', 'impar', ',', 'entonces', '$', '2^n+3^n', '$', 'no', 'es', 'un', 'cuadrado', 'perfecto', '.']\n['sea', '$', 'p', '(', 'x', ',', 'y', ')', '=2x^2-6xy+5y^2', '$', '.', 'diremos', 'que', '$', 'a', '$', 'es', 'un', 'valor', 'de', '$', 'p', '$', 'si', 'existen', 'números', 'enteros', '$', 'b', '$', 'y', '$', 'c', '$', 'tales', 'que', '$', 'a=p', '(', 'b', ',', 'c', ')', '$', '.', 'determinar', 'cuántos', 'elementos', 'de', '$', '\\\\', '{', '1,2', ',', '...', ',100\\\\', '}', '$', 'son', 'valores', 'de', '$', 'p', '$', '.', 'probar', 'que', 'el', 'producto', 'de', 'valores', 'de', '$', 'p', '$', 'es', 'un', 'valor', 'de', '$', 'p', '$', '.']\n"
     ]
    }
   ],
   "source": [
    "import pandas as pd\n",
    "import numpy as np\n",
    "from nltk.tokenize import word_tokenize\n",
    "from nltk import pos_tag\n",
    "from nltk.corpus import stopwords\n",
    "from nltk.stem import WordNetLemmatizer\n",
    "from sklearn.preprocessing import LabelEncoder\n",
    "from collections import defaultdict\n",
    "from nltk.corpus import wordnet as wn\n",
    "from sklearn.feature_extraction.text import TfidfVectorizer\n",
    "from sklearn import model_selection, naive_bayes, svm\n",
    "from sklearn.metrics import accuracy_score\n",
    "\n",
    "Corpus = pd.read_csv(r\"C:\\Users\\Mundarain\\Downloads\\my-tesis-2\\math-problems-clasificator\\problems-training.csv\", encoding='latin-1')\n",
    "\n",
    "# Step - a : Remove blank rows if any.\n",
    "Corpus['Enunciado'].dropna(inplace=True)\n",
    "\n",
    "# Step - b : Change all the text to lower case. This is required as python interprets 'dog' and 'DOG' differently\n",
    "Corpus['Enunciado'] = [entry.lower() for entry in Corpus['Enunciado']]\n",
    "\n",
    "# Step - c : Tokenization : In this each entry in the corpus will be broken into set of words\n",
    "Corpus['Enunciado']= [word_tokenize(entry) for entry in Corpus['Enunciado']]\n",
    "\n",
    "# Step - d : Remove Stop words, Non-Numeric and perfom Word Stemming/Lemmenting.\n",
    "# WordNetLemmatizer requires Pos tags to understand if the word is noun or verb or adjective etc. By default it is set to Noun\n",
    "tag_map = defaultdict(lambda : wn.NOUN)\n",
    "tag_map['J'] = wn.ADJ\n",
    "tag_map['V'] = wn.VERB\n",
    "tag_map['R'] = wn.ADV\n",
    "for index,entry in enumerate(Corpus['Enunciado']):\n",
    "    # Declaring Empty List to store the words that follow the rules for this step\n",
    "    Final_words = []\n",
    "    # Initializing WordNetLemmatizer()\n",
    "    word_Lemmatized = WordNetLemmatizer()\n",
    "    # pos_tag function below will provide the 'tag' i.e if the word is Noun(N) or Verb(V) or something else.\n",
    "    for word, tag in pos_tag(entry):\n",
    "        # Below condition is to check for Stop words and consider only alphabets\n",
    "        #if word not in stopwords.words('english') and word.isalpha():\n",
    "            word_Final = word_Lemmatized.lemmatize(word,tag_map[tag[0]])\n",
    "            Final_words.append(word)\n",
    "    # The final processed set of words for each iteration will be stored in 'text_final'\n",
    "    Corpus.loc[index,'text_final'] = str(Final_words)\n",
    "    print(Final_words)"
   ]
  },
  {
   "cell_type": "code",
   "execution_count": null,
   "metadata": {},
   "outputs": [],
   "source": []
  }
 ]
}